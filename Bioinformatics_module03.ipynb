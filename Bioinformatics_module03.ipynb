{
  "cells": [
    {
      "cell_type": "markdown",
      "metadata": {
        "id": "view-in-github",
        "colab_type": "text"
      },
      "source": [
        "<a href=\"https://colab.research.google.com/github/Amitha-code/bioinformatics-rosalind/blob/main/Bioinformatics_module03.ipynb\" target=\"_parent\"><img src=\"https://colab.research.google.com/assets/colab-badge.svg\" alt=\"Open In Colab\"/></a>"
      ]
    },
    {
      "cell_type": "markdown",
      "id": "6b7b9840",
      "metadata": {
        "id": "6b7b9840"
      },
      "source": [
        "## P1. Print Output"
      ]
    },
    {
      "cell_type": "code",
      "source": [
        "pip install biopython"
      ],
      "metadata": {
        "colab": {
          "base_uri": "https://localhost:8080/"
        },
        "id": "GWGHccgARF_3",
        "outputId": "62981485-2489-4bcc-de15-419f30a18343"
      },
      "id": "GWGHccgARF_3",
      "execution_count": 21,
      "outputs": [
        {
          "output_type": "stream",
          "name": "stdout",
          "text": [
            "Requirement already satisfied: biopython in /usr/local/lib/python3.12/dist-packages (1.85)\n",
            "Requirement already satisfied: numpy in /usr/local/lib/python3.12/dist-packages (from biopython) (2.0.2)\n"
          ]
        }
      ]
    },
    {
      "cell_type": "code",
      "execution_count": 1,
      "id": "c3db6b53",
      "metadata": {
        "colab": {
          "base_uri": "https://localhost:8080/"
        },
        "id": "c3db6b53",
        "outputId": "54e1cef1-4c03-4569-ac9f-485eabf137dd"
      },
      "outputs": [
        {
          "output_type": "stream",
          "name": "stdout",
          "text": [
            "hello world\n"
          ]
        }
      ],
      "source": [
        "print('hello world')"
      ]
    },
    {
      "cell_type": "markdown",
      "id": "9df514d7",
      "metadata": {
        "id": "9df514d7"
      },
      "source": [
        "## P2. Assignment Operator (=)"
      ]
    },
    {
      "cell_type": "code",
      "execution_count": 2,
      "id": "3acba285",
      "metadata": {
        "colab": {
          "base_uri": "https://localhost:8080/"
        },
        "id": "3acba285",
        "outputId": "4be4c5fa-4589-4897-cae1-9b05e4835c8b"
      },
      "outputs": [
        {
          "output_type": "stream",
          "name": "stdout",
          "text": [
            "5 Alice 3.14\n"
          ]
        }
      ],
      "source": [
        "x = 5\n",
        "name = 'Alice'\n",
        "pi = 3.14\n",
        "print(x, name, pi)"
      ]
    },
    {
      "cell_type": "markdown",
      "id": "bab70a1c",
      "metadata": {
        "id": "bab70a1c"
      },
      "source": [
        "## P3. Data Types"
      ]
    },
    {
      "cell_type": "code",
      "execution_count": 3,
      "id": "1607c9e0",
      "metadata": {
        "colab": {
          "base_uri": "https://localhost:8080/"
        },
        "id": "1607c9e0",
        "outputId": "892e5afe-345a-4afe-e442-5aeaf060b957"
      },
      "outputs": [
        {
          "output_type": "stream",
          "name": "stdout",
          "text": [
            "<class 'int'>\n",
            "<class 'float'>\n",
            "<class 'str'>\n"
          ]
        }
      ],
      "source": [
        "x = 5\n",
        "print(type(x))\n",
        "\n",
        "y = 5.0\n",
        "print(type(y))\n",
        "\n",
        "z = '5'\n",
        "print(type(z))"
      ]
    },
    {
      "cell_type": "markdown",
      "id": "7e8ef84d",
      "metadata": {
        "id": "7e8ef84d"
      },
      "source": [
        "## P4. Arithmetic & Comparison Operators"
      ]
    },
    {
      "cell_type": "code",
      "execution_count": 4,
      "id": "ce2578ad",
      "metadata": {
        "colab": {
          "base_uri": "https://localhost:8080/"
        },
        "id": "ce2578ad",
        "outputId": "203719f7-6e57-48b3-c346-12f304a87a29"
      },
      "outputs": [
        {
          "output_type": "stream",
          "name": "stdout",
          "text": [
            "10 4 21 2.3333333333333335\n",
            "False True True False\n"
          ]
        }
      ],
      "source": [
        "a, b = 7, 3\n",
        "print(a + b, a - b, a * b, a / b)\n",
        "print(a == b, a != b, a > b, a <= b)"
      ]
    },
    {
      "cell_type": "markdown",
      "id": "ed4b6e46",
      "metadata": {
        "id": "ed4b6e46"
      },
      "source": [
        "## P6. Input from User"
      ]
    },
    {
      "cell_type": "code",
      "execution_count": 5,
      "id": "66a69529",
      "metadata": {
        "colab": {
          "base_uri": "https://localhost:8080/"
        },
        "id": "66a69529",
        "outputId": "afedadcd-7687-4b7c-99d5-6d854a95c812"
      },
      "outputs": [
        {
          "output_type": "stream",
          "name": "stdout",
          "text": [
            "Enter your name: ammi\n",
            "Hello ammi\n"
          ]
        }
      ],
      "source": [
        "name = input('Enter your name: ')\n",
        "print('Hello', name)"
      ]
    },
    {
      "cell_type": "markdown",
      "id": "4dc7a6f2",
      "metadata": {
        "id": "4dc7a6f2"
      },
      "source": [
        "## P7. Lists"
      ]
    },
    {
      "cell_type": "code",
      "execution_count": 6,
      "id": "2b7a4f22",
      "metadata": {
        "colab": {
          "base_uri": "https://localhost:8080/"
        },
        "id": "2b7a4f22",
        "outputId": "09013c3b-8754-4940-b85b-835d6523c6a0"
      },
      "outputs": [
        {
          "output_type": "stream",
          "name": "stdout",
          "text": [
            "World\n",
            "['Hello', 'World', 'Alfred R. Wallace']\n",
            "['Hello', 'World', 'Alfred R. Wallace', 'Charles Darwin']\n"
          ]
        }
      ],
      "source": [
        "my_list = ['Hello','World','Charles Darwin']\n",
        "print(my_list[1])  # indexing\n",
        "\n",
        "my_list[2] = 'Alfred R. Wallace'\n",
        "print(my_list)\n",
        "\n",
        "my_list.append('Charles Darwin')\n",
        "print(my_list)"
      ]
    },
    {
      "cell_type": "markdown",
      "id": "eba5437b",
      "metadata": {
        "id": "eba5437b"
      },
      "source": [
        "## P8. List & String Slicing"
      ]
    },
    {
      "cell_type": "code",
      "execution_count": 7,
      "id": "445c04f2",
      "metadata": {
        "colab": {
          "base_uri": "https://localhost:8080/"
        },
        "id": "445c04f2",
        "outputId": "b14c2dba-25df-4ba4-97ae-be0851a86b36"
      },
      "outputs": [
        {
          "output_type": "stream",
          "name": "stdout",
          "text": [
            "['World', 'Alfred R. Wallace']\n",
            "Hello\n",
            "World\n"
          ]
        }
      ],
      "source": [
        "print(my_list[1:3])\n",
        "\n",
        "my_string = 'HelloWorldCharlesDarwinAlfredRWallace'\n",
        "print(my_string[0:5])   # Hello\n",
        "print(my_string[5:10])  # World"
      ]
    },
    {
      "cell_type": "markdown",
      "id": "a294caae",
      "metadata": {
        "id": "a294caae"
      },
      "source": [
        "## P9. If-Else"
      ]
    },
    {
      "cell_type": "code",
      "execution_count": 8,
      "id": "00ba900c",
      "metadata": {
        "colab": {
          "base_uri": "https://localhost:8080/"
        },
        "id": "00ba900c",
        "outputId": "f8e07b7d-a9ca-42e1-b004-7f5321c5865c"
      },
      "outputs": [
        {
          "output_type": "stream",
          "name": "stdout",
          "text": [
            "10\n"
          ]
        }
      ],
      "source": [
        "a, b = 5, 5\n",
        "if a == b:\n",
        "    print(a + b)\n",
        "else:\n",
        "    print(a - b)"
      ]
    },
    {
      "cell_type": "markdown",
      "id": "7a622491",
      "metadata": {
        "id": "7a622491"
      },
      "source": [
        "## P10. While Loop"
      ]
    },
    {
      "cell_type": "code",
      "execution_count": 9,
      "id": "66e644d3",
      "metadata": {
        "colab": {
          "base_uri": "https://localhost:8080/"
        },
        "id": "66e644d3",
        "outputId": "9af2d055-4a4e-400a-d9d6-aaa516e0ecff"
      },
      "outputs": [
        {
          "output_type": "stream",
          "name": "stdout",
          "text": [
            "Counting! 1\n",
            "Counting! 2\n",
            "Counting! 3\n"
          ]
        }
      ],
      "source": [
        "count = 1\n",
        "while count <= 3:\n",
        "    print('Counting!', count)\n",
        "    count += 1"
      ]
    },
    {
      "cell_type": "markdown",
      "id": "54825b7e",
      "metadata": {
        "id": "54825b7e"
      },
      "source": [
        "## P11. For Loop over List"
      ]
    },
    {
      "cell_type": "code",
      "execution_count": 10,
      "id": "4d0cba86",
      "metadata": {
        "colab": {
          "base_uri": "https://localhost:8080/"
        },
        "id": "4d0cba86",
        "outputId": "ecce30bf-3f20-4306-acd4-8f6c338aaa48"
      },
      "outputs": [
        {
          "output_type": "stream",
          "name": "stdout",
          "text": [
            "Hello Alice\n",
            "Hello Bob\n",
            "Hello Charlie\n"
          ]
        }
      ],
      "source": [
        "names = ['Alice','Bob','Charlie']\n",
        "for name in names:\n",
        "    print('Hello', name)"
      ]
    },
    {
      "cell_type": "markdown",
      "id": "6955f84b",
      "metadata": {
        "id": "6955f84b"
      },
      "source": [
        "## P12. For Loop with Range"
      ]
    },
    {
      "cell_type": "code",
      "execution_count": 11,
      "id": "0203dc4e",
      "metadata": {
        "colab": {
          "base_uri": "https://localhost:8080/"
        },
        "id": "0203dc4e",
        "outputId": "c0376d5d-c813-4a31-c31b-579d73e33c0f"
      },
      "outputs": [
        {
          "output_type": "stream",
          "name": "stdout",
          "text": [
            "0\n",
            "1\n",
            "2\n",
            "3\n",
            "4\n",
            "5\n",
            "6\n",
            "7\n",
            "8\n",
            "9\n"
          ]
        }
      ],
      "source": [
        "for number in range(10):\n",
        "    print(number)"
      ]
    },
    {
      "cell_type": "markdown",
      "id": "bca5ea50",
      "metadata": {
        "id": "bca5ea50"
      },
      "source": [
        "## P13. File I/O"
      ]
    },
    {
      "cell_type": "code",
      "execution_count": 12,
      "id": "f37bbd5c",
      "metadata": {
        "colab": {
          "base_uri": "https://localhost:8080/"
        },
        "id": "f37bbd5c",
        "outputId": "7636513e-3ad3-44dd-8a43-a75fa7d6a51d"
      },
      "outputs": [
        {
          "output_type": "stream",
          "name": "stdout",
          "text": [
            "Hello\n",
            "World\n",
            "Bioinformatics\n"
          ]
        }
      ],
      "source": [
        "# Create a file\n",
        "with open('practice.txt','w') as f:\n",
        "    f.write('Hello\\nWorld\\nBioinformatics')\n",
        "\n",
        "# Read file\n",
        "with open('practice.txt','r') as f:\n",
        "    print(f.read())"
      ]
    },
    {
      "cell_type": "markdown",
      "id": "0102ca68",
      "metadata": {
        "id": "0102ca68"
      },
      "source": [
        "## P14. Join Lines"
      ]
    },
    {
      "cell_type": "code",
      "execution_count": 13,
      "id": "a20372cd",
      "metadata": {
        "colab": {
          "base_uri": "https://localhost:8080/"
        },
        "id": "a20372cd",
        "outputId": "0f443456-7c1b-4b38-9b6e-980a860ba79b"
      },
      "outputs": [
        {
          "output_type": "stream",
          "name": "stdout",
          "text": [
            "Hello\n",
            "World\n",
            "Bioinformatics\n"
          ]
        }
      ],
      "source": [
        "with open('practice.txt','r') as f:\n",
        "    lines = f.readlines()\n",
        "\n",
        "print(''.join(lines))"
      ]
    },
    {
      "cell_type": "markdown",
      "id": "b9aaec49",
      "metadata": {
        "id": "b9aaec49"
      },
      "source": [
        "## P15. Looping Through File"
      ]
    },
    {
      "cell_type": "code",
      "execution_count": 14,
      "id": "e9562a03",
      "metadata": {
        "colab": {
          "base_uri": "https://localhost:8080/"
        },
        "id": "e9562a03",
        "outputId": "da0d9feb-b952-4425-9ecc-fc737273dd62"
      },
      "outputs": [
        {
          "output_type": "stream",
          "name": "stdout",
          "text": [
            "Hello\n",
            "World\n",
            "Bioinformatics\n"
          ]
        }
      ],
      "source": [
        "with open('practice.txt','r') as f:\n",
        "    for line in f:\n",
        "        print(line.strip())"
      ]
    },
    {
      "cell_type": "markdown",
      "id": "4be123ac",
      "metadata": {
        "id": "4be123ac"
      },
      "source": [
        "## P16. Splitting Words"
      ]
    },
    {
      "cell_type": "code",
      "execution_count": 15,
      "id": "3b6fcb86",
      "metadata": {
        "colab": {
          "base_uri": "https://localhost:8080/"
        },
        "id": "3b6fcb86",
        "outputId": "58b4da3a-9b7b-42af-c9f4-5b202b85f644"
      },
      "outputs": [
        {
          "output_type": "stream",
          "name": "stdout",
          "text": [
            "Bioinformatics\n",
            "is\n",
            "fun\n",
            "to\n",
            "learn\n"
          ]
        }
      ],
      "source": [
        "sentence = 'Bioinformatics is fun to learn'\n",
        "for word in sentence.split():\n",
        "    print(word)"
      ]
    },
    {
      "cell_type": "markdown",
      "id": "cc0f13af",
      "metadata": {
        "id": "cc0f13af"
      },
      "source": [
        "## P17-18. Dictionaries"
      ]
    },
    {
      "cell_type": "code",
      "execution_count": 16,
      "id": "daf6e10f",
      "metadata": {
        "colab": {
          "base_uri": "https://localhost:8080/"
        },
        "id": "daf6e10f",
        "outputId": "c588315c-a759-4c90-8e04-21d0deb4b8df"
      },
      "outputs": [
        {
          "output_type": "stream",
          "name": "stdout",
          "text": [
            "World\n",
            "H Hello\n",
            "W World\n",
            "ARC Alfred R. Wallace\n"
          ]
        }
      ],
      "source": [
        "sequences = {'H':'Hello','W':'World','ARC':'Alfred R. Wallace'}\n",
        "print(sequences['W'])\n",
        "\n",
        "for key, value in sequences.items():\n",
        "    print(key, value)"
      ]
    },
    {
      "cell_type": "markdown",
      "id": "6a07b371",
      "metadata": {
        "id": "6a07b371"
      },
      "source": [
        "## P19. Count Function"
      ]
    },
    {
      "cell_type": "code",
      "execution_count": 17,
      "id": "3a651fc2",
      "metadata": {
        "colab": {
          "base_uri": "https://localhost:8080/"
        },
        "id": "3a651fc2",
        "outputId": "f16f7e41-d693-44d4-d7a4-8403856e29a5"
      },
      "outputs": [
        {
          "output_type": "stream",
          "name": "stdout",
          "text": [
            "A: 3\n",
            "C: 3\n",
            "G: 3\n",
            "T: 3\n"
          ]
        }
      ],
      "source": [
        "dna = 'ACGTACGTACGT'\n",
        "print('A:', dna.count('A'))\n",
        "print('C:', dna.count('C'))\n",
        "print('G:', dna.count('G'))\n",
        "print('T:', dna.count('T'))"
      ]
    },
    {
      "cell_type": "markdown",
      "id": "94f86d0c",
      "metadata": {
        "id": "94f86d0c"
      },
      "source": [
        "## P20–P23. Biopython Examples"
      ]
    },
    {
      "cell_type": "code",
      "execution_count": 19,
      "id": "605d3524",
      "metadata": {
        "colab": {
          "base_uri": "https://localhost:8080/"
        },
        "id": "605d3524",
        "outputId": "2d0fb3d7-4489-4c95-d67a-c90f00f6d17f"
      },
      "outputs": [
        {
          "output_type": "stream",
          "name": "stdout",
          "text": [
            "Complement: TACCGG\n",
            "Reverse Complement: GGCCAT\n",
            "Transcribe: AUGGCC\n",
            "Translate: MA\n"
          ]
        }
      ],
      "source": [
        "from Bio.Seq import Seq\n",
        "my_seq = Seq('ATGGCC')\n",
        "print('Complement:', my_seq.complement())\n",
        "print('Reverse Complement:', my_seq.reverse_complement())\n",
        "print('Transcribe:', my_seq.transcribe())\n",
        "print('Translate:', my_seq.translate())"
      ]
    },
    {
      "cell_type": "code",
      "execution_count": 20,
      "id": "97a644d3",
      "metadata": {
        "colab": {
          "base_uri": "https://localhost:8080/"
        },
        "id": "97a644d3",
        "outputId": "fa9ac36a-34af-4090-dacf-8fe60789be11"
      },
      "outputs": [
        {
          "output_type": "stream",
          "name": "stdout",
          "text": [
            "GC content: 0.6666666666666666\n"
          ]
        }
      ],
      "source": [
        "from Bio.SeqUtils import gc_fraction\n",
        "print('GC content:', gc_fraction(my_seq))"
      ]
    },
    {
      "cell_type": "code",
      "source": [],
      "metadata": {
        "id": "hGQ41EDgQab-"
      },
      "id": "hGQ41EDgQab-",
      "execution_count": 20,
      "outputs": []
    }
  ],
  "metadata": {
    "colab": {
      "provenance": [],
      "include_colab_link": true
    },
    "language_info": {
      "name": "python"
    },
    "kernelspec": {
      "name": "python3",
      "display_name": "Python 3"
    }
  },
  "nbformat": 4,
  "nbformat_minor": 5
}